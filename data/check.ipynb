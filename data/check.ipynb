{
 "cells": [
  {
   "cell_type": "markdown",
   "metadata": {},
   "source": [
    "# One-view\n"
   ]
  },
  {
   "cell_type": "code",
   "execution_count": 1,
   "metadata": {},
   "outputs": [],
   "source": [
    "import pandas as pd"
   ]
  },
  {
   "cell_type": "code",
   "execution_count": 2,
   "metadata": {},
   "outputs": [
    {
     "name": "stdout",
     "output_type": "stream",
     "text": [
      "Train size: 4316\n",
      "Val size: 792\n",
      "Test size: 791\n"
     ]
    }
   ],
   "source": [
    "train = pd.read_csv(\"label_1_200/train_1_200_center_ord1.csv\")['name'].values.tolist()\n",
    "val = pd.read_csv(\"label_1_200/val_1_200_center_ord1.csv\")['name'].values.tolist()\n",
    "test = pd.read_csv(\"label_1_200/test_1_200_center_ord1.csv\")['name'].values.tolist()\n",
    "print(f\"Train size: {len(train)}\")\n",
    "print(f\"Val size: {len(val)}\")\n",
    "print(f\"Test size: {len(test)}\")"
   ]
  },
  {
   "cell_type": "code",
   "execution_count": 14,
   "metadata": {},
   "outputs": [
    {
     "data": {
      "text/plain": [
       "(['17_Vu_1-200_1-2-3_0118___center_device11_signer17_center_ord1_0.mp4',\n",
       "  '17_Vu_1-200_1-2-3_0118___center_device11_signer17_center_ord1_1.mp4'],\n",
       " ['03_Van-Anh_1-200_1-2-3_0108___center_device02_signer03_center_ord1_1.mp4',\n",
       "  '03_Van-Anh_1-200_1-2-3_0108___center_device02_signer03_center_ord1_2.mp4'],\n",
       " ['10_Vuong_1-200_1-2-3_0122___center_device11_signer10_center_ord1_0.mp4',\n",
       "  '10_Vuong_1-200_1-2-3_0122___center_device11_signer10_center_ord1_1.mp4'])"
      ]
     },
     "execution_count": 14,
     "metadata": {},
     "output_type": "execute_result"
    }
   ],
   "source": [
    "train[:2],val[:2],test[:2]"
   ]
  },
  {
   "cell_type": "code",
   "execution_count": 15,
   "metadata": {},
   "outputs": [],
   "source": [
    "for i in train:\n",
    "    if i in val:\n",
    "        print(\"Val contains some samples in train\")\n",
    "    if i in test:\n",
    "        print(\"Test contains some samples in train\")\n",
    "\n",
    "for i in test:\n",
    "    if i in val:\n",
    "        print(\"Val contains some samples in test\")"
   ]
  },
  {
   "cell_type": "markdown",
   "metadata": {},
   "source": [
    "# Three-view"
   ]
  },
  {
   "cell_type": "code",
   "execution_count": 3,
   "metadata": {},
   "outputs": [
    {
     "name": "stdout",
     "output_type": "stream",
     "text": [
      "Train size: 4080\n",
      "Val size: 792\n",
      "Test size: 791\n"
     ]
    },
    {
     "data": {
      "text/plain": [
       "((4080, 3), (792, 3), (791, 3))"
      ]
     },
     "execution_count": 3,
     "metadata": {},
     "output_type": "execute_result"
    }
   ],
   "source": [
    "three_view_train = pd.read_csv(\"label_1_200/train_1_200_three_view_ord1.csv\").iloc[:,:3].values\n",
    "three_view_val = pd.read_csv(\"label_1_200/val_1_200_three_view_ord1.csv\").iloc[:,:3].values\n",
    "three_view_test = pd.read_csv(\"label_1_200/test_1_200_three_view_ord1.csv\").iloc[:,:3].values\n",
    "print(f\"Train size: {len(three_view_train)}\")\n",
    "print(f\"Val size: {len(three_view_val)}\")\n",
    "print(f\"Test size: {len(three_view_test)}\")\n",
    "three_view_train.shape,three_view_val.shape,three_view_test.shape"
   ]
  },
  {
   "cell_type": "code",
   "execution_count": 24,
   "metadata": {},
   "outputs": [],
   "source": [
    "views = ['center','left','right']\n",
    "for idx,view in enumerate(views):\n",
    "    for i in three_view_train[:,idx]:\n",
    "        for v in views:\n",
    "            if v == view:\n",
    "                continue\n",
    "            if v in i:\n",
    "                print(f\"{v} in {view}\")\n",
    "\n",
    "for idx,view in enumerate(views):\n",
    "    for i in three_view_val[:,idx]:\n",
    "        for v in views:\n",
    "            if v == view:\n",
    "                continue\n",
    "            if v in i:\n",
    "                print(f\"{v} in {view}\")\n",
    "\n",
    "\n",
    "for idx,view in enumerate(views):\n",
    "    for i in three_view_test[:,idx]:\n",
    "        for v in views:\n",
    "            if v == view:\n",
    "                continue\n",
    "            if v in i:\n",
    "                print(f\"{v} in {view}\")"
   ]
  },
  {
   "cell_type": "code",
   "execution_count": 27,
   "metadata": {},
   "outputs": [
    {
     "name": "stdout",
     "output_type": "stream",
     "text": [
      "Train size: 12240\n",
      "Val size: 2376\n",
      "Test size: 2373\n"
     ]
    }
   ],
   "source": [
    "new_train = three_view_train.reshape(-1)\n",
    "new_val = three_view_val.reshape(-1)\n",
    "new_test = three_view_test.reshape(-1)\n",
    "\n",
    "print(f\"Train size: {len(new_train)}\")\n",
    "print(f\"Val size: {len(new_val)}\")\n",
    "print(f\"Test size: {len(new_test)}\")\n",
    "\n",
    "\n",
    "for i in new_train:\n",
    "    if i in new_val:\n",
    "        print(\"Val contains some samples in train\")\n",
    "    if i in new_test:\n",
    "        print(\"Test contains some samples in train\")\n",
    "\n",
    "for i in new_test:\n",
    "    if i in new_val:\n",
    "        print(\"Val contains some samples in test\")"
   ]
  },
  {
   "cell_type": "code",
   "execution_count": null,
   "metadata": {},
   "outputs": [],
   "source": []
  }
 ],
 "metadata": {
  "kernelspec": {
   "display_name": "anhnct",
   "language": "python",
   "name": "python3"
  },
  "language_info": {
   "codemirror_mode": {
    "name": "ipython",
    "version": 3
   },
   "file_extension": ".py",
   "mimetype": "text/x-python",
   "name": "python",
   "nbconvert_exporter": "python",
   "pygments_lexer": "ipython3",
   "version": "3.8.13"
  }
 },
 "nbformat": 4,
 "nbformat_minor": 2
}
